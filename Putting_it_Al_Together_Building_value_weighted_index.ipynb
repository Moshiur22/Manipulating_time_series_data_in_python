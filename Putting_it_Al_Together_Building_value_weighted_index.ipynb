{
  "nbformat": 4,
  "nbformat_minor": 0,
  "metadata": {
    "colab": {
      "provenance": [],
      "authorship_tag": "ABX9TyPAkaUfUAiMlBIsPQ0l6KN3"
    },
    "kernelspec": {
      "name": "python3",
      "display_name": "Python 3"
    },
    "language_info": {
      "name": "python"
    }
  },
  "cells": [
    {
      "cell_type": "code",
      "execution_count": 29,
      "metadata": {
        "id": "8RalJahSLry4"
      },
      "outputs": [],
      "source": [
        "import pandas as pd\n",
        "import numpy as np\n",
        "import matplotlib.pyplot as plt\n",
        "import seaborn as sns"
      ]
    },
    {
      "cell_type": "markdown",
      "source": [
        "#Select index Component and import data"
      ],
      "metadata": {
        "id": "z2inRADhZvyr"
      }
    },
    {
      "cell_type": "code",
      "source": [
        "#Load Stock listing Data\n",
        "nyse = pd.read_excel('listings.xlsx',sheet_name='nyse',na_values='n/a')\n",
        "nyse.info()"
      ],
      "metadata": {
        "colab": {
          "base_uri": "https://localhost:8080/"
        },
        "id": "Bk8WYoKFZkq7",
        "outputId": "292ce077-7dbe-4b8a-c76f-9a339d852105"
      },
      "execution_count": 2,
      "outputs": [
        {
          "output_type": "stream",
          "name": "stdout",
          "text": [
            "<class 'pandas.core.frame.DataFrame'>\n",
            "RangeIndex: 3147 entries, 0 to 3146\n",
            "Data columns (total 7 columns):\n",
            " #   Column                 Non-Null Count  Dtype  \n",
            "---  ------                 --------------  -----  \n",
            " 0   Stock Symbol           3147 non-null   object \n",
            " 1   Company Name           3147 non-null   object \n",
            " 2   Last Sale              3079 non-null   float64\n",
            " 3   Market Capitalization  3147 non-null   float64\n",
            " 4   IPO Year               1361 non-null   float64\n",
            " 5   Sector                 2177 non-null   object \n",
            " 6   Industry               2177 non-null   object \n",
            "dtypes: float64(3), object(4)\n",
            "memory usage: 172.2+ KB\n"
          ]
        },
        {
          "output_type": "stream",
          "name": "stderr",
          "text": [
            "/usr/local/lib/python3.8/dist-packages/openpyxl/worksheet/_reader.py:312: UserWarning: Unknown extension is not supported and will be removed\n",
            "  warn(msg)\n"
          ]
        }
      ]
    },
    {
      "cell_type": "code",
      "source": [
        "#Load and Prepare listing data\n",
        "nyse.set_index('Stock Symbol',inplace= True)\n",
        "nyse.dropna(subset=['Sector'],inplace=True)\n",
        "nyse['Market Capitalization']/= 1e6   #in Million USD"
      ],
      "metadata": {
        "id": "FQMhnrnkaRD_"
      },
      "execution_count": 3,
      "outputs": []
    },
    {
      "cell_type": "code",
      "source": [
        "nyse.head()"
      ],
      "metadata": {
        "colab": {
          "base_uri": "https://localhost:8080/",
          "height": 238
        },
        "id": "XaDzPX4kchF6",
        "outputId": "dc12bb48-2fbb-4fba-f48f-712b9b558b34"
      },
      "execution_count": 4,
      "outputs": [
        {
          "output_type": "execute_result",
          "data": {
            "text/plain": [
              "                        Company Name  Last Sale  Market Capitalization  \\\n",
              "Stock Symbol                                                             \n",
              "DDD           3D Systems Corporation      14.48            1647.165276   \n",
              "MMM                       3M Company     188.65          112736.642168   \n",
              "WBAI                 500.com Limited      13.96             579.312876   \n",
              "WUBA                     58.com Inc.      36.11            5225.238185   \n",
              "AHC            A.H. Belo Corporation       6.20             134.735089   \n",
              "\n",
              "              IPO Year             Sector  \\\n",
              "Stock Symbol                                \n",
              "DDD                NaN         Technology   \n",
              "MMM                NaN        Health Care   \n",
              "WBAI            2013.0  Consumer Services   \n",
              "WUBA            2013.0         Technology   \n",
              "AHC                NaN  Consumer Services   \n",
              "\n",
              "                                                     Industry  \n",
              "Stock Symbol                                                   \n",
              "DDD                   Computer Software: Prepackaged Software  \n",
              "MMM                                Medical/Dental Instruments  \n",
              "WBAI                    Services-Misc. Amusement & Recreation  \n",
              "WUBA          Computer Software: Programming, Data Processing  \n",
              "AHC                                      Newspapers/Magazines  "
            ],
            "text/html": [
              "\n",
              "  <div id=\"df-3ce6236f-fb82-48a0-a2b1-e4dae49539b1\">\n",
              "    <div class=\"colab-df-container\">\n",
              "      <div>\n",
              "<style scoped>\n",
              "    .dataframe tbody tr th:only-of-type {\n",
              "        vertical-align: middle;\n",
              "    }\n",
              "\n",
              "    .dataframe tbody tr th {\n",
              "        vertical-align: top;\n",
              "    }\n",
              "\n",
              "    .dataframe thead th {\n",
              "        text-align: right;\n",
              "    }\n",
              "</style>\n",
              "<table border=\"1\" class=\"dataframe\">\n",
              "  <thead>\n",
              "    <tr style=\"text-align: right;\">\n",
              "      <th></th>\n",
              "      <th>Company Name</th>\n",
              "      <th>Last Sale</th>\n",
              "      <th>Market Capitalization</th>\n",
              "      <th>IPO Year</th>\n",
              "      <th>Sector</th>\n",
              "      <th>Industry</th>\n",
              "    </tr>\n",
              "    <tr>\n",
              "      <th>Stock Symbol</th>\n",
              "      <th></th>\n",
              "      <th></th>\n",
              "      <th></th>\n",
              "      <th></th>\n",
              "      <th></th>\n",
              "      <th></th>\n",
              "    </tr>\n",
              "  </thead>\n",
              "  <tbody>\n",
              "    <tr>\n",
              "      <th>DDD</th>\n",
              "      <td>3D Systems Corporation</td>\n",
              "      <td>14.48</td>\n",
              "      <td>1647.165276</td>\n",
              "      <td>NaN</td>\n",
              "      <td>Technology</td>\n",
              "      <td>Computer Software: Prepackaged Software</td>\n",
              "    </tr>\n",
              "    <tr>\n",
              "      <th>MMM</th>\n",
              "      <td>3M Company</td>\n",
              "      <td>188.65</td>\n",
              "      <td>112736.642168</td>\n",
              "      <td>NaN</td>\n",
              "      <td>Health Care</td>\n",
              "      <td>Medical/Dental Instruments</td>\n",
              "    </tr>\n",
              "    <tr>\n",
              "      <th>WBAI</th>\n",
              "      <td>500.com Limited</td>\n",
              "      <td>13.96</td>\n",
              "      <td>579.312876</td>\n",
              "      <td>2013.0</td>\n",
              "      <td>Consumer Services</td>\n",
              "      <td>Services-Misc. Amusement &amp; Recreation</td>\n",
              "    </tr>\n",
              "    <tr>\n",
              "      <th>WUBA</th>\n",
              "      <td>58.com Inc.</td>\n",
              "      <td>36.11</td>\n",
              "      <td>5225.238185</td>\n",
              "      <td>2013.0</td>\n",
              "      <td>Technology</td>\n",
              "      <td>Computer Software: Programming, Data Processing</td>\n",
              "    </tr>\n",
              "    <tr>\n",
              "      <th>AHC</th>\n",
              "      <td>A.H. Belo Corporation</td>\n",
              "      <td>6.20</td>\n",
              "      <td>134.735089</td>\n",
              "      <td>NaN</td>\n",
              "      <td>Consumer Services</td>\n",
              "      <td>Newspapers/Magazines</td>\n",
              "    </tr>\n",
              "  </tbody>\n",
              "</table>\n",
              "</div>\n",
              "      <button class=\"colab-df-convert\" onclick=\"convertToInteractive('df-3ce6236f-fb82-48a0-a2b1-e4dae49539b1')\"\n",
              "              title=\"Convert this dataframe to an interactive table.\"\n",
              "              style=\"display:none;\">\n",
              "        \n",
              "  <svg xmlns=\"http://www.w3.org/2000/svg\" height=\"24px\"viewBox=\"0 0 24 24\"\n",
              "       width=\"24px\">\n",
              "    <path d=\"M0 0h24v24H0V0z\" fill=\"none\"/>\n",
              "    <path d=\"M18.56 5.44l.94 2.06.94-2.06 2.06-.94-2.06-.94-.94-2.06-.94 2.06-2.06.94zm-11 1L8.5 8.5l.94-2.06 2.06-.94-2.06-.94L8.5 2.5l-.94 2.06-2.06.94zm10 10l.94 2.06.94-2.06 2.06-.94-2.06-.94-.94-2.06-.94 2.06-2.06.94z\"/><path d=\"M17.41 7.96l-1.37-1.37c-.4-.4-.92-.59-1.43-.59-.52 0-1.04.2-1.43.59L10.3 9.45l-7.72 7.72c-.78.78-.78 2.05 0 2.83L4 21.41c.39.39.9.59 1.41.59.51 0 1.02-.2 1.41-.59l7.78-7.78 2.81-2.81c.8-.78.8-2.07 0-2.86zM5.41 20L4 18.59l7.72-7.72 1.47 1.35L5.41 20z\"/>\n",
              "  </svg>\n",
              "      </button>\n",
              "      \n",
              "  <style>\n",
              "    .colab-df-container {\n",
              "      display:flex;\n",
              "      flex-wrap:wrap;\n",
              "      gap: 12px;\n",
              "    }\n",
              "\n",
              "    .colab-df-convert {\n",
              "      background-color: #E8F0FE;\n",
              "      border: none;\n",
              "      border-radius: 50%;\n",
              "      cursor: pointer;\n",
              "      display: none;\n",
              "      fill: #1967D2;\n",
              "      height: 32px;\n",
              "      padding: 0 0 0 0;\n",
              "      width: 32px;\n",
              "    }\n",
              "\n",
              "    .colab-df-convert:hover {\n",
              "      background-color: #E2EBFA;\n",
              "      box-shadow: 0px 1px 2px rgba(60, 64, 67, 0.3), 0px 1px 3px 1px rgba(60, 64, 67, 0.15);\n",
              "      fill: #174EA6;\n",
              "    }\n",
              "\n",
              "    [theme=dark] .colab-df-convert {\n",
              "      background-color: #3B4455;\n",
              "      fill: #D2E3FC;\n",
              "    }\n",
              "\n",
              "    [theme=dark] .colab-df-convert:hover {\n",
              "      background-color: #434B5C;\n",
              "      box-shadow: 0px 1px 3px 1px rgba(0, 0, 0, 0.15);\n",
              "      filter: drop-shadow(0px 1px 2px rgba(0, 0, 0, 0.3));\n",
              "      fill: #FFFFFF;\n",
              "    }\n",
              "  </style>\n",
              "\n",
              "      <script>\n",
              "        const buttonEl =\n",
              "          document.querySelector('#df-3ce6236f-fb82-48a0-a2b1-e4dae49539b1 button.colab-df-convert');\n",
              "        buttonEl.style.display =\n",
              "          google.colab.kernel.accessAllowed ? 'block' : 'none';\n",
              "\n",
              "        async function convertToInteractive(key) {\n",
              "          const element = document.querySelector('#df-3ce6236f-fb82-48a0-a2b1-e4dae49539b1');\n",
              "          const dataTable =\n",
              "            await google.colab.kernel.invokeFunction('convertToInteractive',\n",
              "                                                     [key], {});\n",
              "          if (!dataTable) return;\n",
              "\n",
              "          const docLinkHtml = 'Like what you see? Visit the ' +\n",
              "            '<a target=\"_blank\" href=https://colab.research.google.com/notebooks/data_table.ipynb>data table notebook</a>'\n",
              "            + ' to learn more about interactive tables.';\n",
              "          element.innerHTML = '';\n",
              "          dataTable['output_type'] = 'display_data';\n",
              "          await google.colab.output.renderOutput(dataTable, element);\n",
              "          const docLink = document.createElement('div');\n",
              "          docLink.innerHTML = docLinkHtml;\n",
              "          element.appendChild(docLink);\n",
              "        }\n",
              "      </script>\n",
              "    </div>\n",
              "  </div>\n",
              "  "
            ]
          },
          "metadata": {},
          "execution_count": 4
        }
      ]
    },
    {
      "cell_type": "code",
      "source": [
        "#Select Index Components\n",
        "components= nyse.groupby(['Sector'])['Market Capitalization'].nlargest(1)\n",
        "components.sort_values(ascending=False)"
      ],
      "metadata": {
        "colab": {
          "base_uri": "https://localhost:8080/"
        },
        "id": "Pboc8kEbcmJc",
        "outputId": "2d94cb1b-52dc-4e74-ccc9-46e1c467ffdd"
      },
      "execution_count": 5,
      "outputs": [
        {
          "output_type": "execute_result",
          "data": {
            "text/plain": [
              "Sector                 Stock Symbol\n",
              "Health Care            JNJ             338834.390080\n",
              "Energy                 XOM             338728.713874\n",
              "Finance                JPM             300283.250479\n",
              "Miscellaneous          BABA            275525.000000\n",
              "Public Utilities       T               247339.517272\n",
              "Basic Industries       PG              230159.644117\n",
              "Consumer Services      WMT             221864.614129\n",
              "Consumer Non-Durables  KO              183655.305119\n",
              "Technology             ORCL            181046.096000\n",
              "Capital Goods          TM              155660.252483\n",
              "Transportation         UPS              90180.886756\n",
              "Consumer Durables      ABB              48398.935676\n",
              "Name: Market Capitalization, dtype: float64"
            ]
          },
          "metadata": {},
          "execution_count": 5
        }
      ]
    },
    {
      "cell_type": "code",
      "source": [
        "#import and prepare listing data\n",
        "tickers =components.index.get_level_values('Stock Symbol')\n",
        "tickers"
      ],
      "metadata": {
        "colab": {
          "base_uri": "https://localhost:8080/"
        },
        "id": "k_eayWw9dLZY",
        "outputId": "6554fd54-d082-4e81-8f0a-b9f00290ac0e"
      },
      "execution_count": 6,
      "outputs": [
        {
          "output_type": "execute_result",
          "data": {
            "text/plain": [
              "Index(['PG', 'TM', 'ABB', 'KO', 'WMT', 'XOM', 'JPM', 'JNJ', 'BABA', 'T',\n",
              "       'ORCL', 'UPS'],\n",
              "      dtype='object', name='Stock Symbol')"
            ]
          },
          "metadata": {},
          "execution_count": 6
        }
      ]
    },
    {
      "cell_type": "code",
      "source": [
        "tickers.to_list()"
      ],
      "metadata": {
        "colab": {
          "base_uri": "https://localhost:8080/"
        },
        "id": "Mzg18DMGe6At",
        "outputId": "6861884b-1e24-4357-f059-58a8e086a439"
      },
      "execution_count": 7,
      "outputs": [
        {
          "output_type": "execute_result",
          "data": {
            "text/plain": [
              "['PG',\n",
              " 'TM',\n",
              " 'ABB',\n",
              " 'KO',\n",
              " 'WMT',\n",
              " 'XOM',\n",
              " 'JPM',\n",
              " 'JNJ',\n",
              " 'BABA',\n",
              " 'T',\n",
              " 'ORCL',\n",
              " 'UPS']"
            ]
          },
          "metadata": {},
          "execution_count": 7
        }
      ]
    },
    {
      "cell_type": "code",
      "source": [
        "#Stock Index Components\n",
        "columns= ['Company Name','Market Capitalization','Last Sale']\n",
        "component_info = nyse.loc[tickers,columns]\n",
        "pd.options.display.float_format = '{:2f}'.format\n",
        "component_info.head()"
      ],
      "metadata": {
        "colab": {
          "base_uri": "https://localhost:8080/",
          "height": 238
        },
        "id": "jxOvUXMcgJmg",
        "outputId": "41aa4f80-dfd2-451e-e58a-909827b0d3fd"
      },
      "execution_count": 8,
      "outputs": [
        {
          "output_type": "execute_result",
          "data": {
            "text/plain": [
              "                                Company Name  Market Capitalization  Last Sale\n",
              "Stock Symbol                                                                  \n",
              "PG            Procter & Gamble Company (The)          230159.644117  90.030000\n",
              "TM                 Toyota Motor Corp Ltd Ord          155660.252483 104.180000\n",
              "ABB                                  ABB Ltd           48398.935676  22.630000\n",
              "KO                   Coca-Cola Company (The)          183655.305119  42.790000\n",
              "WMT                    Wal-Mart Stores, Inc.          221864.614129  73.150000"
            ],
            "text/html": [
              "\n",
              "  <div id=\"df-9272cda9-62c0-4a7c-a761-d6ed96cafb5b\">\n",
              "    <div class=\"colab-df-container\">\n",
              "      <div>\n",
              "<style scoped>\n",
              "    .dataframe tbody tr th:only-of-type {\n",
              "        vertical-align: middle;\n",
              "    }\n",
              "\n",
              "    .dataframe tbody tr th {\n",
              "        vertical-align: top;\n",
              "    }\n",
              "\n",
              "    .dataframe thead th {\n",
              "        text-align: right;\n",
              "    }\n",
              "</style>\n",
              "<table border=\"1\" class=\"dataframe\">\n",
              "  <thead>\n",
              "    <tr style=\"text-align: right;\">\n",
              "      <th></th>\n",
              "      <th>Company Name</th>\n",
              "      <th>Market Capitalization</th>\n",
              "      <th>Last Sale</th>\n",
              "    </tr>\n",
              "    <tr>\n",
              "      <th>Stock Symbol</th>\n",
              "      <th></th>\n",
              "      <th></th>\n",
              "      <th></th>\n",
              "    </tr>\n",
              "  </thead>\n",
              "  <tbody>\n",
              "    <tr>\n",
              "      <th>PG</th>\n",
              "      <td>Procter &amp; Gamble Company (The)</td>\n",
              "      <td>230159.644117</td>\n",
              "      <td>90.030000</td>\n",
              "    </tr>\n",
              "    <tr>\n",
              "      <th>TM</th>\n",
              "      <td>Toyota Motor Corp Ltd Ord</td>\n",
              "      <td>155660.252483</td>\n",
              "      <td>104.180000</td>\n",
              "    </tr>\n",
              "    <tr>\n",
              "      <th>ABB</th>\n",
              "      <td>ABB Ltd</td>\n",
              "      <td>48398.935676</td>\n",
              "      <td>22.630000</td>\n",
              "    </tr>\n",
              "    <tr>\n",
              "      <th>KO</th>\n",
              "      <td>Coca-Cola Company (The)</td>\n",
              "      <td>183655.305119</td>\n",
              "      <td>42.790000</td>\n",
              "    </tr>\n",
              "    <tr>\n",
              "      <th>WMT</th>\n",
              "      <td>Wal-Mart Stores, Inc.</td>\n",
              "      <td>221864.614129</td>\n",
              "      <td>73.150000</td>\n",
              "    </tr>\n",
              "  </tbody>\n",
              "</table>\n",
              "</div>\n",
              "      <button class=\"colab-df-convert\" onclick=\"convertToInteractive('df-9272cda9-62c0-4a7c-a761-d6ed96cafb5b')\"\n",
              "              title=\"Convert this dataframe to an interactive table.\"\n",
              "              style=\"display:none;\">\n",
              "        \n",
              "  <svg xmlns=\"http://www.w3.org/2000/svg\" height=\"24px\"viewBox=\"0 0 24 24\"\n",
              "       width=\"24px\">\n",
              "    <path d=\"M0 0h24v24H0V0z\" fill=\"none\"/>\n",
              "    <path d=\"M18.56 5.44l.94 2.06.94-2.06 2.06-.94-2.06-.94-.94-2.06-.94 2.06-2.06.94zm-11 1L8.5 8.5l.94-2.06 2.06-.94-2.06-.94L8.5 2.5l-.94 2.06-2.06.94zm10 10l.94 2.06.94-2.06 2.06-.94-2.06-.94-.94-2.06-.94 2.06-2.06.94z\"/><path d=\"M17.41 7.96l-1.37-1.37c-.4-.4-.92-.59-1.43-.59-.52 0-1.04.2-1.43.59L10.3 9.45l-7.72 7.72c-.78.78-.78 2.05 0 2.83L4 21.41c.39.39.9.59 1.41.59.51 0 1.02-.2 1.41-.59l7.78-7.78 2.81-2.81c.8-.78.8-2.07 0-2.86zM5.41 20L4 18.59l7.72-7.72 1.47 1.35L5.41 20z\"/>\n",
              "  </svg>\n",
              "      </button>\n",
              "      \n",
              "  <style>\n",
              "    .colab-df-container {\n",
              "      display:flex;\n",
              "      flex-wrap:wrap;\n",
              "      gap: 12px;\n",
              "    }\n",
              "\n",
              "    .colab-df-convert {\n",
              "      background-color: #E8F0FE;\n",
              "      border: none;\n",
              "      border-radius: 50%;\n",
              "      cursor: pointer;\n",
              "      display: none;\n",
              "      fill: #1967D2;\n",
              "      height: 32px;\n",
              "      padding: 0 0 0 0;\n",
              "      width: 32px;\n",
              "    }\n",
              "\n",
              "    .colab-df-convert:hover {\n",
              "      background-color: #E2EBFA;\n",
              "      box-shadow: 0px 1px 2px rgba(60, 64, 67, 0.3), 0px 1px 3px 1px rgba(60, 64, 67, 0.15);\n",
              "      fill: #174EA6;\n",
              "    }\n",
              "\n",
              "    [theme=dark] .colab-df-convert {\n",
              "      background-color: #3B4455;\n",
              "      fill: #D2E3FC;\n",
              "    }\n",
              "\n",
              "    [theme=dark] .colab-df-convert:hover {\n",
              "      background-color: #434B5C;\n",
              "      box-shadow: 0px 1px 3px 1px rgba(0, 0, 0, 0.15);\n",
              "      filter: drop-shadow(0px 1px 2px rgba(0, 0, 0, 0.3));\n",
              "      fill: #FFFFFF;\n",
              "    }\n",
              "  </style>\n",
              "\n",
              "      <script>\n",
              "        const buttonEl =\n",
              "          document.querySelector('#df-9272cda9-62c0-4a7c-a761-d6ed96cafb5b button.colab-df-convert');\n",
              "        buttonEl.style.display =\n",
              "          google.colab.kernel.accessAllowed ? 'block' : 'none';\n",
              "\n",
              "        async function convertToInteractive(key) {\n",
              "          const element = document.querySelector('#df-9272cda9-62c0-4a7c-a761-d6ed96cafb5b');\n",
              "          const dataTable =\n",
              "            await google.colab.kernel.invokeFunction('convertToInteractive',\n",
              "                                                     [key], {});\n",
              "          if (!dataTable) return;\n",
              "\n",
              "          const docLinkHtml = 'Like what you see? Visit the ' +\n",
              "            '<a target=\"_blank\" href=https://colab.research.google.com/notebooks/data_table.ipynb>data table notebook</a>'\n",
              "            + ' to learn more about interactive tables.';\n",
              "          element.innerHTML = '';\n",
              "          dataTable['output_type'] = 'display_data';\n",
              "          await google.colab.output.renderOutput(dataTable, element);\n",
              "          const docLink = document.createElement('div');\n",
              "          docLink.innerHTML = docLinkHtml;\n",
              "          element.appendChild(docLink);\n",
              "        }\n",
              "      </script>\n",
              "    </div>\n",
              "  </div>\n",
              "  "
            ]
          },
          "metadata": {},
          "execution_count": 8
        }
      ]
    },
    {
      "cell_type": "code",
      "source": [
        "#Import and prepare listing data\n",
        "data= pd.read_csv('stock_data.csv',parse_dates=['Date'],index_col='Date')\n",
        "data.info()"
      ],
      "metadata": {
        "colab": {
          "base_uri": "https://localhost:8080/"
        },
        "id": "DR4bBDlbhclM",
        "outputId": "3182cd88-902b-4751-cc1f-78936d02b9b0"
      },
      "execution_count": 9,
      "outputs": [
        {
          "output_type": "stream",
          "name": "stdout",
          "text": [
            "<class 'pandas.core.frame.DataFrame'>\n",
            "DatetimeIndex: 1762 entries, 2010-01-04 to 2016-12-30\n",
            "Data columns (total 12 columns):\n",
            " #   Column  Non-Null Count  Dtype  \n",
            "---  ------  --------------  -----  \n",
            " 0   AAPL    1761 non-null   float64\n",
            " 1   AMGN    1761 non-null   float64\n",
            " 2   AMZN    1761 non-null   float64\n",
            " 3   CPRT    1761 non-null   float64\n",
            " 4   EL      1762 non-null   float64\n",
            " 5   GS      1762 non-null   float64\n",
            " 6   ILMN    1761 non-null   float64\n",
            " 7   MA      1762 non-null   float64\n",
            " 8   PAA     1762 non-null   float64\n",
            " 9   RIO     1762 non-null   float64\n",
            " 10  TEF     1762 non-null   float64\n",
            " 11  UPS     1762 non-null   float64\n",
            "dtypes: float64(12)\n",
            "memory usage: 179.0 KB\n"
          ]
        }
      ]
    },
    {
      "cell_type": "markdown",
      "source": [
        "#Building a Value Weighted Index"
      ],
      "metadata": {
        "id": "99GEPvj5ryFn"
      }
    },
    {
      "cell_type": "code",
      "source": [
        "component_info"
      ],
      "metadata": {
        "colab": {
          "base_uri": "https://localhost:8080/",
          "height": 457
        },
        "id": "htM1t5lBuVx_",
        "outputId": "a179a109-34ad-4205-d525-d03b1358099e"
      },
      "execution_count": 10,
      "outputs": [
        {
          "output_type": "execute_result",
          "data": {
            "text/plain": [
              "                                Company Name  Market Capitalization  Last Sale\n",
              "Stock Symbol                                                                  \n",
              "PG            Procter & Gamble Company (The)          230159.644117  90.030000\n",
              "TM                 Toyota Motor Corp Ltd Ord          155660.252483 104.180000\n",
              "ABB                                  ABB Ltd           48398.935676  22.630000\n",
              "KO                   Coca-Cola Company (The)          183655.305119  42.790000\n",
              "WMT                    Wal-Mart Stores, Inc.          221864.614129  73.150000\n",
              "XOM                  Exxon Mobil Corporation          338728.713874  81.690000\n",
              "JPM                    J P Morgan Chase & Co          300283.250479  84.400000\n",
              "JNJ                        Johnson & Johnson          338834.390080 124.990000\n",
              "BABA           Alibaba Group Holding Limited          275525.000000 110.210000\n",
              "T                                  AT&T Inc.          247339.517272  40.280000\n",
              "ORCL                      Oracle Corporation          181046.096000  44.000000\n",
              "UPS              United Parcel Service, Inc.           90180.886756 103.740000"
            ],
            "text/html": [
              "\n",
              "  <div id=\"df-1ebcefff-acc5-449c-a888-55cbd3752373\">\n",
              "    <div class=\"colab-df-container\">\n",
              "      <div>\n",
              "<style scoped>\n",
              "    .dataframe tbody tr th:only-of-type {\n",
              "        vertical-align: middle;\n",
              "    }\n",
              "\n",
              "    .dataframe tbody tr th {\n",
              "        vertical-align: top;\n",
              "    }\n",
              "\n",
              "    .dataframe thead th {\n",
              "        text-align: right;\n",
              "    }\n",
              "</style>\n",
              "<table border=\"1\" class=\"dataframe\">\n",
              "  <thead>\n",
              "    <tr style=\"text-align: right;\">\n",
              "      <th></th>\n",
              "      <th>Company Name</th>\n",
              "      <th>Market Capitalization</th>\n",
              "      <th>Last Sale</th>\n",
              "    </tr>\n",
              "    <tr>\n",
              "      <th>Stock Symbol</th>\n",
              "      <th></th>\n",
              "      <th></th>\n",
              "      <th></th>\n",
              "    </tr>\n",
              "  </thead>\n",
              "  <tbody>\n",
              "    <tr>\n",
              "      <th>PG</th>\n",
              "      <td>Procter &amp; Gamble Company (The)</td>\n",
              "      <td>230159.644117</td>\n",
              "      <td>90.030000</td>\n",
              "    </tr>\n",
              "    <tr>\n",
              "      <th>TM</th>\n",
              "      <td>Toyota Motor Corp Ltd Ord</td>\n",
              "      <td>155660.252483</td>\n",
              "      <td>104.180000</td>\n",
              "    </tr>\n",
              "    <tr>\n",
              "      <th>ABB</th>\n",
              "      <td>ABB Ltd</td>\n",
              "      <td>48398.935676</td>\n",
              "      <td>22.630000</td>\n",
              "    </tr>\n",
              "    <tr>\n",
              "      <th>KO</th>\n",
              "      <td>Coca-Cola Company (The)</td>\n",
              "      <td>183655.305119</td>\n",
              "      <td>42.790000</td>\n",
              "    </tr>\n",
              "    <tr>\n",
              "      <th>WMT</th>\n",
              "      <td>Wal-Mart Stores, Inc.</td>\n",
              "      <td>221864.614129</td>\n",
              "      <td>73.150000</td>\n",
              "    </tr>\n",
              "    <tr>\n",
              "      <th>XOM</th>\n",
              "      <td>Exxon Mobil Corporation</td>\n",
              "      <td>338728.713874</td>\n",
              "      <td>81.690000</td>\n",
              "    </tr>\n",
              "    <tr>\n",
              "      <th>JPM</th>\n",
              "      <td>J P Morgan Chase &amp; Co</td>\n",
              "      <td>300283.250479</td>\n",
              "      <td>84.400000</td>\n",
              "    </tr>\n",
              "    <tr>\n",
              "      <th>JNJ</th>\n",
              "      <td>Johnson &amp; Johnson</td>\n",
              "      <td>338834.390080</td>\n",
              "      <td>124.990000</td>\n",
              "    </tr>\n",
              "    <tr>\n",
              "      <th>BABA</th>\n",
              "      <td>Alibaba Group Holding Limited</td>\n",
              "      <td>275525.000000</td>\n",
              "      <td>110.210000</td>\n",
              "    </tr>\n",
              "    <tr>\n",
              "      <th>T</th>\n",
              "      <td>AT&amp;T Inc.</td>\n",
              "      <td>247339.517272</td>\n",
              "      <td>40.280000</td>\n",
              "    </tr>\n",
              "    <tr>\n",
              "      <th>ORCL</th>\n",
              "      <td>Oracle Corporation</td>\n",
              "      <td>181046.096000</td>\n",
              "      <td>44.000000</td>\n",
              "    </tr>\n",
              "    <tr>\n",
              "      <th>UPS</th>\n",
              "      <td>United Parcel Service, Inc.</td>\n",
              "      <td>90180.886756</td>\n",
              "      <td>103.740000</td>\n",
              "    </tr>\n",
              "  </tbody>\n",
              "</table>\n",
              "</div>\n",
              "      <button class=\"colab-df-convert\" onclick=\"convertToInteractive('df-1ebcefff-acc5-449c-a888-55cbd3752373')\"\n",
              "              title=\"Convert this dataframe to an interactive table.\"\n",
              "              style=\"display:none;\">\n",
              "        \n",
              "  <svg xmlns=\"http://www.w3.org/2000/svg\" height=\"24px\"viewBox=\"0 0 24 24\"\n",
              "       width=\"24px\">\n",
              "    <path d=\"M0 0h24v24H0V0z\" fill=\"none\"/>\n",
              "    <path d=\"M18.56 5.44l.94 2.06.94-2.06 2.06-.94-2.06-.94-.94-2.06-.94 2.06-2.06.94zm-11 1L8.5 8.5l.94-2.06 2.06-.94-2.06-.94L8.5 2.5l-.94 2.06-2.06.94zm10 10l.94 2.06.94-2.06 2.06-.94-2.06-.94-.94-2.06-.94 2.06-2.06.94z\"/><path d=\"M17.41 7.96l-1.37-1.37c-.4-.4-.92-.59-1.43-.59-.52 0-1.04.2-1.43.59L10.3 9.45l-7.72 7.72c-.78.78-.78 2.05 0 2.83L4 21.41c.39.39.9.59 1.41.59.51 0 1.02-.2 1.41-.59l7.78-7.78 2.81-2.81c.8-.78.8-2.07 0-2.86zM5.41 20L4 18.59l7.72-7.72 1.47 1.35L5.41 20z\"/>\n",
              "  </svg>\n",
              "      </button>\n",
              "      \n",
              "  <style>\n",
              "    .colab-df-container {\n",
              "      display:flex;\n",
              "      flex-wrap:wrap;\n",
              "      gap: 12px;\n",
              "    }\n",
              "\n",
              "    .colab-df-convert {\n",
              "      background-color: #E8F0FE;\n",
              "      border: none;\n",
              "      border-radius: 50%;\n",
              "      cursor: pointer;\n",
              "      display: none;\n",
              "      fill: #1967D2;\n",
              "      height: 32px;\n",
              "      padding: 0 0 0 0;\n",
              "      width: 32px;\n",
              "    }\n",
              "\n",
              "    .colab-df-convert:hover {\n",
              "      background-color: #E2EBFA;\n",
              "      box-shadow: 0px 1px 2px rgba(60, 64, 67, 0.3), 0px 1px 3px 1px rgba(60, 64, 67, 0.15);\n",
              "      fill: #174EA6;\n",
              "    }\n",
              "\n",
              "    [theme=dark] .colab-df-convert {\n",
              "      background-color: #3B4455;\n",
              "      fill: #D2E3FC;\n",
              "    }\n",
              "\n",
              "    [theme=dark] .colab-df-convert:hover {\n",
              "      background-color: #434B5C;\n",
              "      box-shadow: 0px 1px 3px 1px rgba(0, 0, 0, 0.15);\n",
              "      filter: drop-shadow(0px 1px 2px rgba(0, 0, 0, 0.3));\n",
              "      fill: #FFFFFF;\n",
              "    }\n",
              "  </style>\n",
              "\n",
              "      <script>\n",
              "        const buttonEl =\n",
              "          document.querySelector('#df-1ebcefff-acc5-449c-a888-55cbd3752373 button.colab-df-convert');\n",
              "        buttonEl.style.display =\n",
              "          google.colab.kernel.accessAllowed ? 'block' : 'none';\n",
              "\n",
              "        async function convertToInteractive(key) {\n",
              "          const element = document.querySelector('#df-1ebcefff-acc5-449c-a888-55cbd3752373');\n",
              "          const dataTable =\n",
              "            await google.colab.kernel.invokeFunction('convertToInteractive',\n",
              "                                                     [key], {});\n",
              "          if (!dataTable) return;\n",
              "\n",
              "          const docLinkHtml = 'Like what you see? Visit the ' +\n",
              "            '<a target=\"_blank\" href=https://colab.research.google.com/notebooks/data_table.ipynb>data table notebook</a>'\n",
              "            + ' to learn more about interactive tables.';\n",
              "          element.innerHTML = '';\n",
              "          dataTable['output_type'] = 'display_data';\n",
              "          await google.colab.output.renderOutput(dataTable, element);\n",
              "          const docLink = document.createElement('div');\n",
              "          docLink.innerHTML = docLinkHtml;\n",
              "          element.appendChild(docLink);\n",
              "        }\n",
              "      </script>\n",
              "    </div>\n",
              "  </div>\n",
              "  "
            ]
          },
          "metadata": {},
          "execution_count": 10
        }
      ]
    },
    {
      "cell_type": "code",
      "source": [
        "#Number of Shares outstanding\n",
        "shares= component_info['Market Capitalization'].div(component_info['Last Sale'])\n",
        "shares"
      ],
      "metadata": {
        "colab": {
          "base_uri": "https://localhost:8080/"
        },
        "id": "-teJiwIBr2yZ",
        "outputId": "9272ea5c-85f9-4ec2-d690-3a0492b4005e"
      },
      "execution_count": 11,
      "outputs": [
        {
          "output_type": "execute_result",
          "data": {
            "text/plain": [
              "Stock Symbol\n",
              "PG     2556.477220\n",
              "TM     1494.147173\n",
              "ABB    2138.706835\n",
              "KO     4292.014609\n",
              "WMT    3033.009079\n",
              "XOM    4146.513819\n",
              "JPM    3557.858418\n",
              "JNJ    2710.891992\n",
              "BABA   2500.000000\n",
              "T      6140.504401\n",
              "ORCL   4114.684000\n",
              "UPS     869.297154\n",
              "dtype: float64"
            ]
          },
          "metadata": {},
          "execution_count": 11
        }
      ]
    },
    {
      "cell_type": "code",
      "source": [
        "#Historical Stock Price\n",
        "market_cap_series= data.mul(shares)\n",
        "market_cap_series.info()"
      ],
      "metadata": {
        "colab": {
          "base_uri": "https://localhost:8080/"
        },
        "id": "exnW2v03ttsu",
        "outputId": "00631479-a6ad-4169-d3d6-40436d8e9b5e"
      },
      "execution_count": 12,
      "outputs": [
        {
          "output_type": "stream",
          "name": "stdout",
          "text": [
            "<class 'pandas.core.frame.DataFrame'>\n",
            "DatetimeIndex: 1762 entries, 2010-01-04 to 2016-12-30\n",
            "Data columns (total 23 columns):\n",
            " #   Column  Non-Null Count  Dtype  \n",
            "---  ------  --------------  -----  \n",
            " 0   AAPL    0 non-null      float64\n",
            " 1   ABB     0 non-null      float64\n",
            " 2   AMGN    0 non-null      float64\n",
            " 3   AMZN    0 non-null      float64\n",
            " 4   BABA    0 non-null      float64\n",
            " 5   CPRT    0 non-null      float64\n",
            " 6   EL      0 non-null      float64\n",
            " 7   GS      0 non-null      float64\n",
            " 8   ILMN    0 non-null      float64\n",
            " 9   JNJ     0 non-null      float64\n",
            " 10  JPM     0 non-null      float64\n",
            " 11  KO      0 non-null      float64\n",
            " 12  MA      0 non-null      float64\n",
            " 13  ORCL    0 non-null      float64\n",
            " 14  PAA     0 non-null      float64\n",
            " 15  PG      0 non-null      float64\n",
            " 16  RIO     0 non-null      float64\n",
            " 17  T       0 non-null      float64\n",
            " 18  TEF     0 non-null      float64\n",
            " 19  TM      0 non-null      float64\n",
            " 20  UPS     1762 non-null   float64\n",
            " 21  WMT     0 non-null      float64\n",
            " 22  XOM     0 non-null      float64\n",
            "dtypes: float64(23)\n",
            "memory usage: 330.4 KB\n"
          ]
        }
      ]
    },
    {
      "cell_type": "code",
      "source": [
        "market_cap_series.first('D').append(market_cap_series.last('D'))"
      ],
      "metadata": {
        "colab": {
          "base_uri": "https://localhost:8080/",
          "height": 173
        },
        "id": "QopOuGasx_FB",
        "outputId": "a58d913c-c2de-45cd-9883-f9fe3802ad04"
      },
      "execution_count": 13,
      "outputs": [
        {
          "output_type": "execute_result",
          "data": {
            "text/plain": [
              "            AAPL  ABB  AMGN  AMZN  BABA  CPRT  EL  GS  ILMN  JNJ  ...  ORCL  \\\n",
              "Date                                                              ...         \n",
              "2010-01-04   NaN  NaN   NaN   NaN   NaN   NaN NaN NaN   NaN  NaN  ...   NaN   \n",
              "2016-12-30   NaN  NaN   NaN   NaN   NaN   NaN NaN NaN   NaN  NaN  ...   NaN   \n",
              "\n",
              "            PAA  PG  RIO   T  TEF  TM          UPS  WMT  XOM  \n",
              "Date                                                          \n",
              "2010-01-04  NaN NaN  NaN NaN  NaN NaN 50575.708420  NaN  NaN  \n",
              "2016-12-30  NaN NaN  NaN NaN  NaN NaN 99656.225735  NaN  NaN  \n",
              "\n",
              "[2 rows x 23 columns]"
            ],
            "text/html": [
              "\n",
              "  <div id=\"df-3953ca26-9dd6-46be-925d-933da6a0d1a4\">\n",
              "    <div class=\"colab-df-container\">\n",
              "      <div>\n",
              "<style scoped>\n",
              "    .dataframe tbody tr th:only-of-type {\n",
              "        vertical-align: middle;\n",
              "    }\n",
              "\n",
              "    .dataframe tbody tr th {\n",
              "        vertical-align: top;\n",
              "    }\n",
              "\n",
              "    .dataframe thead th {\n",
              "        text-align: right;\n",
              "    }\n",
              "</style>\n",
              "<table border=\"1\" class=\"dataframe\">\n",
              "  <thead>\n",
              "    <tr style=\"text-align: right;\">\n",
              "      <th></th>\n",
              "      <th>AAPL</th>\n",
              "      <th>ABB</th>\n",
              "      <th>AMGN</th>\n",
              "      <th>AMZN</th>\n",
              "      <th>BABA</th>\n",
              "      <th>CPRT</th>\n",
              "      <th>EL</th>\n",
              "      <th>GS</th>\n",
              "      <th>ILMN</th>\n",
              "      <th>JNJ</th>\n",
              "      <th>...</th>\n",
              "      <th>ORCL</th>\n",
              "      <th>PAA</th>\n",
              "      <th>PG</th>\n",
              "      <th>RIO</th>\n",
              "      <th>T</th>\n",
              "      <th>TEF</th>\n",
              "      <th>TM</th>\n",
              "      <th>UPS</th>\n",
              "      <th>WMT</th>\n",
              "      <th>XOM</th>\n",
              "    </tr>\n",
              "    <tr>\n",
              "      <th>Date</th>\n",
              "      <th></th>\n",
              "      <th></th>\n",
              "      <th></th>\n",
              "      <th></th>\n",
              "      <th></th>\n",
              "      <th></th>\n",
              "      <th></th>\n",
              "      <th></th>\n",
              "      <th></th>\n",
              "      <th></th>\n",
              "      <th></th>\n",
              "      <th></th>\n",
              "      <th></th>\n",
              "      <th></th>\n",
              "      <th></th>\n",
              "      <th></th>\n",
              "      <th></th>\n",
              "      <th></th>\n",
              "      <th></th>\n",
              "      <th></th>\n",
              "      <th></th>\n",
              "    </tr>\n",
              "  </thead>\n",
              "  <tbody>\n",
              "    <tr>\n",
              "      <th>2010-01-04</th>\n",
              "      <td>NaN</td>\n",
              "      <td>NaN</td>\n",
              "      <td>NaN</td>\n",
              "      <td>NaN</td>\n",
              "      <td>NaN</td>\n",
              "      <td>NaN</td>\n",
              "      <td>NaN</td>\n",
              "      <td>NaN</td>\n",
              "      <td>NaN</td>\n",
              "      <td>NaN</td>\n",
              "      <td>...</td>\n",
              "      <td>NaN</td>\n",
              "      <td>NaN</td>\n",
              "      <td>NaN</td>\n",
              "      <td>NaN</td>\n",
              "      <td>NaN</td>\n",
              "      <td>NaN</td>\n",
              "      <td>NaN</td>\n",
              "      <td>50575.708420</td>\n",
              "      <td>NaN</td>\n",
              "      <td>NaN</td>\n",
              "    </tr>\n",
              "    <tr>\n",
              "      <th>2016-12-30</th>\n",
              "      <td>NaN</td>\n",
              "      <td>NaN</td>\n",
              "      <td>NaN</td>\n",
              "      <td>NaN</td>\n",
              "      <td>NaN</td>\n",
              "      <td>NaN</td>\n",
              "      <td>NaN</td>\n",
              "      <td>NaN</td>\n",
              "      <td>NaN</td>\n",
              "      <td>NaN</td>\n",
              "      <td>...</td>\n",
              "      <td>NaN</td>\n",
              "      <td>NaN</td>\n",
              "      <td>NaN</td>\n",
              "      <td>NaN</td>\n",
              "      <td>NaN</td>\n",
              "      <td>NaN</td>\n",
              "      <td>NaN</td>\n",
              "      <td>99656.225735</td>\n",
              "      <td>NaN</td>\n",
              "      <td>NaN</td>\n",
              "    </tr>\n",
              "  </tbody>\n",
              "</table>\n",
              "<p>2 rows × 23 columns</p>\n",
              "</div>\n",
              "      <button class=\"colab-df-convert\" onclick=\"convertToInteractive('df-3953ca26-9dd6-46be-925d-933da6a0d1a4')\"\n",
              "              title=\"Convert this dataframe to an interactive table.\"\n",
              "              style=\"display:none;\">\n",
              "        \n",
              "  <svg xmlns=\"http://www.w3.org/2000/svg\" height=\"24px\"viewBox=\"0 0 24 24\"\n",
              "       width=\"24px\">\n",
              "    <path d=\"M0 0h24v24H0V0z\" fill=\"none\"/>\n",
              "    <path d=\"M18.56 5.44l.94 2.06.94-2.06 2.06-.94-2.06-.94-.94-2.06-.94 2.06-2.06.94zm-11 1L8.5 8.5l.94-2.06 2.06-.94-2.06-.94L8.5 2.5l-.94 2.06-2.06.94zm10 10l.94 2.06.94-2.06 2.06-.94-2.06-.94-.94-2.06-.94 2.06-2.06.94z\"/><path d=\"M17.41 7.96l-1.37-1.37c-.4-.4-.92-.59-1.43-.59-.52 0-1.04.2-1.43.59L10.3 9.45l-7.72 7.72c-.78.78-.78 2.05 0 2.83L4 21.41c.39.39.9.59 1.41.59.51 0 1.02-.2 1.41-.59l7.78-7.78 2.81-2.81c.8-.78.8-2.07 0-2.86zM5.41 20L4 18.59l7.72-7.72 1.47 1.35L5.41 20z\"/>\n",
              "  </svg>\n",
              "      </button>\n",
              "      \n",
              "  <style>\n",
              "    .colab-df-container {\n",
              "      display:flex;\n",
              "      flex-wrap:wrap;\n",
              "      gap: 12px;\n",
              "    }\n",
              "\n",
              "    .colab-df-convert {\n",
              "      background-color: #E8F0FE;\n",
              "      border: none;\n",
              "      border-radius: 50%;\n",
              "      cursor: pointer;\n",
              "      display: none;\n",
              "      fill: #1967D2;\n",
              "      height: 32px;\n",
              "      padding: 0 0 0 0;\n",
              "      width: 32px;\n",
              "    }\n",
              "\n",
              "    .colab-df-convert:hover {\n",
              "      background-color: #E2EBFA;\n",
              "      box-shadow: 0px 1px 2px rgba(60, 64, 67, 0.3), 0px 1px 3px 1px rgba(60, 64, 67, 0.15);\n",
              "      fill: #174EA6;\n",
              "    }\n",
              "\n",
              "    [theme=dark] .colab-df-convert {\n",
              "      background-color: #3B4455;\n",
              "      fill: #D2E3FC;\n",
              "    }\n",
              "\n",
              "    [theme=dark] .colab-df-convert:hover {\n",
              "      background-color: #434B5C;\n",
              "      box-shadow: 0px 1px 3px 1px rgba(0, 0, 0, 0.15);\n",
              "      filter: drop-shadow(0px 1px 2px rgba(0, 0, 0, 0.3));\n",
              "      fill: #FFFFFF;\n",
              "    }\n",
              "  </style>\n",
              "\n",
              "      <script>\n",
              "        const buttonEl =\n",
              "          document.querySelector('#df-3953ca26-9dd6-46be-925d-933da6a0d1a4 button.colab-df-convert');\n",
              "        buttonEl.style.display =\n",
              "          google.colab.kernel.accessAllowed ? 'block' : 'none';\n",
              "\n",
              "        async function convertToInteractive(key) {\n",
              "          const element = document.querySelector('#df-3953ca26-9dd6-46be-925d-933da6a0d1a4');\n",
              "          const dataTable =\n",
              "            await google.colab.kernel.invokeFunction('convertToInteractive',\n",
              "                                                     [key], {});\n",
              "          if (!dataTable) return;\n",
              "\n",
              "          const docLinkHtml = 'Like what you see? Visit the ' +\n",
              "            '<a target=\"_blank\" href=https://colab.research.google.com/notebooks/data_table.ipynb>data table notebook</a>'\n",
              "            + ' to learn more about interactive tables.';\n",
              "          element.innerHTML = '';\n",
              "          dataTable['output_type'] = 'display_data';\n",
              "          await google.colab.output.renderOutput(dataTable, element);\n",
              "          const docLink = document.createElement('div');\n",
              "          docLink.innerHTML = docLinkHtml;\n",
              "          element.appendChild(docLink);\n",
              "        }\n",
              "      </script>\n",
              "    </div>\n",
              "  </div>\n",
              "  "
            ]
          },
          "metadata": {},
          "execution_count": 13
        }
      ]
    },
    {
      "cell_type": "code",
      "source": [
        "#Aggregate Market Value per Period\n",
        "agg_mcap= market_cap_series.sum(axis=1) #Total Market Cap\n",
        "agg_mcap.plot(title='Aggregate Market Cap')\n"
      ],
      "metadata": {
        "colab": {
          "base_uri": "https://localhost:8080/",
          "height": 302
        },
        "id": "nMMKTYNE0Ys0",
        "outputId": "3dc62a55-75d0-476e-872b-83b844240343"
      },
      "execution_count": 14,
      "outputs": [
        {
          "output_type": "execute_result",
          "data": {
            "text/plain": [
              "<matplotlib.axes._subplots.AxesSubplot at 0x7f2cbb0f78b0>"
            ]
          },
          "metadata": {},
          "execution_count": 14
        },
        {
          "output_type": "display_data",
          "data": {
            "text/plain": [
              "<Figure size 432x288 with 1 Axes>"
            ],
            "image/png": "[encoded data removed]"
          },
          "metadata": {
            "needs_background": "light"
          }
        }
      ]
    },
    {
      "cell_type": "code",
      "source": [
        "#Value-Based Index\n",
        "index= agg_mcap.div(agg_mcap.iloc[0]).mul(100) #Divide by 1st value\n",
        "index.plot(title= 'Market-Cap Weighted Index')"
      ],
      "metadata": {
        "colab": {
          "base_uri": "https://localhost:8080/",
          "height": 302
        },
        "id": "1fA-73AK0y4q",
        "outputId": "63a67901-f478-4f95-b30a-8cb9905f3639"
      },
      "execution_count": 15,
      "outputs": [
        {
          "output_type": "execute_result",
          "data": {
            "text/plain": [
              "<matplotlib.axes._subplots.AxesSubplot at 0x7f2cbb054fd0>"
            ]
          },
          "metadata": {},
          "execution_count": 15
        },
        {
          "output_type": "display_data",
          "data": {
            "text/plain": [
              "<Figure size 432x288 with 1 Axes>"
            ],
            "image/png": "[encoded data removed]"
          },
          "metadata": {
            "needs_background": "light"
          }
        }
      ]
    },
    {
      "cell_type": "markdown",
      "source": [
        "#Evaluate Index Performance"
      ],
      "metadata": {
        "id": "unaNrB3HysWk"
      }
    },
    {
      "cell_type": "code",
      "source": [
        "#Value Contribution by Stock\n",
        "agg_mcap.iloc[-1]-agg_mcap.iloc[0]"
      ],
      "metadata": {
        "id": "dmA4UhHC1dk1",
        "colab": {
          "base_uri": "https://localhost:8080/"
        },
        "outputId": "ef7103cb-6e39-4892-fe12-c5e2b01df1b3"
      },
      "execution_count": 16,
      "outputs": [
        {
          "output_type": "execute_result",
          "data": {
            "text/plain": [
              "49080.517314840006"
            ]
          },
          "metadata": {},
          "execution_count": 16
        }
      ]
    },
    {
      "cell_type": "code",
      "source": [
        "change= market_cap_series.first('D').append(market_cap_series.last('D'))\n",
        "change.diff().iloc[-1].sort_values()"
      ],
      "metadata": {
        "colab": {
          "base_uri": "https://localhost:8080/"
        },
        "id": "_vi25TEO8s6R",
        "outputId": "4e89db36-c378-40ed-b1a7-0ec3733070d2"
      },
      "execution_count": 17,
      "outputs": [
        {
          "output_type": "execute_result",
          "data": {
            "text/plain": [
              "UPS    49080.517315\n",
              "AAPL            NaN\n",
              "ABB             NaN\n",
              "AMGN            NaN\n",
              "AMZN            NaN\n",
              "BABA            NaN\n",
              "CPRT            NaN\n",
              "EL              NaN\n",
              "GS              NaN\n",
              "ILMN            NaN\n",
              "JNJ             NaN\n",
              "JPM             NaN\n",
              "KO              NaN\n",
              "MA              NaN\n",
              "ORCL            NaN\n",
              "PAA             NaN\n",
              "PG              NaN\n",
              "RIO             NaN\n",
              "T               NaN\n",
              "TEF             NaN\n",
              "TM              NaN\n",
              "WMT             NaN\n",
              "XOM             NaN\n",
              "Name: 2016-12-30 00:00:00, dtype: float64"
            ]
          },
          "metadata": {},
          "execution_count": 17
        }
      ]
    },
    {
      "cell_type": "code",
      "source": [
        "#market cap value weighted\n",
        "market_cap= component_info['Market Capitalization']\n",
        "weights= market_cap.div(market_cap.sum())\n",
        "weights.sort_values().mul(100)"
      ],
      "metadata": {
        "colab": {
          "base_uri": "https://localhost:8080/"
        },
        "id": "FEJVAryd9Is4",
        "outputId": "a78f161f-5ee6-4271-ae4a-9ed54f7b520b"
      },
      "execution_count": 18,
      "outputs": [
        {
          "output_type": "execute_result",
          "data": {
            "text/plain": [
              "Stock Symbol\n",
              "ABB     1.853175\n",
              "UPS     3.452988\n",
              "TM      5.960166\n",
              "ORCL    6.932179\n",
              "KO      7.032084\n",
              "WMT     8.495103\n",
              "PG      8.812716\n",
              "T       9.470526\n",
              "BABA   10.549736\n",
              "JPM    11.497720\n",
              "XOM    12.969780\n",
              "JNJ    12.973826\n",
              "Name: Market Capitalization, dtype: float64"
            ]
          },
          "metadata": {},
          "execution_count": 18
        }
      ]
    },
    {
      "cell_type": "code",
      "source": [
        "#Value weighted Component Return\n",
        "index_return= (index.iloc[-1]/index.iloc[0]-1)*100\n",
        "index_return"
      ],
      "metadata": {
        "colab": {
          "base_uri": "https://localhost:8080/"
        },
        "id": "bwLllLSD9s8l",
        "outputId": "d89bf584-c0dd-43b7-bec6-406b955fb122"
      },
      "execution_count": 19,
      "outputs": [
        {
          "output_type": "execute_result",
          "data": {
            "text/plain": [
              "97.04365761430044"
            ]
          },
          "metadata": {},
          "execution_count": 19
        }
      ]
    },
    {
      "cell_type": "code",
      "source": [
        "weighted_returns =weights.mul(index_return)\n",
        "weighted_returns.sort_values().plot(kind= 'barh')"
      ],
      "metadata": {
        "colab": {
          "base_uri": "https://localhost:8080/",
          "height": 282
        },
        "id": "N-4aQLTd-RVb",
        "outputId": "5cbcf743-5822-4e55-8945-ff413dc784c2"
      },
      "execution_count": 20,
      "outputs": [
        {
          "output_type": "execute_result",
          "data": {
            "text/plain": [
              "<matplotlib.axes._subplots.AxesSubplot at 0x7f2cba8e9c70>"
            ]
          },
          "metadata": {},
          "execution_count": 20
        },
        {
          "output_type": "display_data",
          "data": {
            "text/plain": [
              "<Figure size 432x288 with 1 Axes>"
            ],
            "image/png": "[encoded data removed]"
          },
          "metadata": {
            "needs_background": "light"
          }
        }
      ]
    },
    {
      "cell_type": "code",
      "source": [
        "#performance Vs Banchmark\n",
        "data= index.to_frame('Index')\n",
        "data['SP500']= pd.read_csv('sp500.csv',parse_dates=['date'],index_col='date')\n",
        "data.SP500=data.SP500.div(data.SP500.iloc[0], axis=0).mul(100)\n",
        "data"
      ],
      "metadata": {
        "id": "ISptIqYx-pIy",
        "colab": {
          "base_uri": "https://localhost:8080/",
          "height": 455
        },
        "outputId": "5864935e-d782-4f12-8aaa-93a3b14eb9c8"
      },
      "execution_count": 28,
      "outputs": [
        {
          "output_type": "execute_result",
          "data": {
            "text/plain": [
              "                Index      SP500\n",
              "Date                            \n",
              "2010-01-04 100.000000 100.000000\n",
              "2010-01-05 100.171880 100.311565\n",
              "2010-01-06  99.432795 100.366287\n",
              "2010-01-07  98.676521 100.767880\n",
              "2010-01-08 103.420419 101.058262\n",
              "...               ...        ...\n",
              "2016-12-23 199.329667 199.806706\n",
              "2016-12-27 199.604675 200.255960\n",
              "2016-12-28 198.006188 198.582512\n",
              "2016-12-29 197.628051 198.524259\n",
              "2016-12-30 197.043658 197.603686\n",
              "\n",
              "[1762 rows x 2 columns]"
            ],
            "text/html": [
              "\n",
              "  <div id=\"df-f4050eae-8746-48e1-bcaa-5c2c72cbbc75\">\n",
              "    <div class=\"colab-df-container\">\n",
              "      <div>\n",
              "<style scoped>\n",
              "    .dataframe tbody tr th:only-of-type {\n",
              "        vertical-align: middle;\n",
              "    }\n",
              "\n",
              "    .dataframe tbody tr th {\n",
              "        vertical-align: top;\n",
              "    }\n",
              "\n",
              "    .dataframe thead th {\n",
              "        text-align: right;\n",
              "    }\n",
              "</style>\n",
              "<table border=\"1\" class=\"dataframe\">\n",
              "  <thead>\n",
              "    <tr style=\"text-align: right;\">\n",
              "      <th></th>\n",
              "      <th>Index</th>\n",
              "      <th>SP500</th>\n",
              "    </tr>\n",
              "    <tr>\n",
              "      <th>Date</th>\n",
              "      <th></th>\n",
              "      <th></th>\n",
              "    </tr>\n",
              "  </thead>\n",
              "  <tbody>\n",
              "    <tr>\n",
              "      <th>2010-01-04</th>\n",
              "      <td>100.000000</td>\n",
              "      <td>100.000000</td>\n",
              "    </tr>\n",
              "    <tr>\n",
              "      <th>2010-01-05</th>\n",
              "      <td>100.171880</td>\n",
              "      <td>100.311565</td>\n",
              "    </tr>\n",
              "    <tr>\n",
              "      <th>2010-01-06</th>\n",
              "      <td>99.432795</td>\n",
              "      <td>100.366287</td>\n",
              "    </tr>\n",
              "    <tr>\n",
              "      <th>2010-01-07</th>\n",
              "      <td>98.676521</td>\n",
              "      <td>100.767880</td>\n",
              "    </tr>\n",
              "    <tr>\n",
              "      <th>2010-01-08</th>\n",
              "      <td>103.420419</td>\n",
              "      <td>101.058262</td>\n",
              "    </tr>\n",
              "    <tr>\n",
              "      <th>...</th>\n",
              "      <td>...</td>\n",
              "      <td>...</td>\n",
              "    </tr>\n",
              "    <tr>\n",
              "      <th>2016-12-23</th>\n",
              "      <td>199.329667</td>\n",
              "      <td>199.806706</td>\n",
              "    </tr>\n",
              "    <tr>\n",
              "      <th>2016-12-27</th>\n",
              "      <td>199.604675</td>\n",
              "      <td>200.255960</td>\n",
              "    </tr>\n",
              "    <tr>\n",
              "      <th>2016-12-28</th>\n",
              "      <td>198.006188</td>\n",
              "      <td>198.582512</td>\n",
              "    </tr>\n",
              "    <tr>\n",
              "      <th>2016-12-29</th>\n",
              "      <td>197.628051</td>\n",
              "      <td>198.524259</td>\n",
              "    </tr>\n",
              "    <tr>\n",
              "      <th>2016-12-30</th>\n",
              "      <td>197.043658</td>\n",
              "      <td>197.603686</td>\n",
              "    </tr>\n",
              "  </tbody>\n",
              "</table>\n",
              "<p>1762 rows × 2 columns</p>\n",
              "</div>\n",
              "      <button class=\"colab-df-convert\" onclick=\"convertToInteractive('df-f4050eae-8746-48e1-bcaa-5c2c72cbbc75')\"\n",
              "              title=\"Convert this dataframe to an interactive table.\"\n",
              "              style=\"display:none;\">\n",
              "        \n",
              "  <svg xmlns=\"http://www.w3.org/2000/svg\" height=\"24px\"viewBox=\"0 0 24 24\"\n",
              "       width=\"24px\">\n",
              "    <path d=\"M0 0h24v24H0V0z\" fill=\"none\"/>\n",
              "    <path d=\"M18.56 5.44l.94 2.06.94-2.06 2.06-.94-2.06-.94-.94-2.06-.94 2.06-2.06.94zm-11 1L8.5 8.5l.94-2.06 2.06-.94-2.06-.94L8.5 2.5l-.94 2.06-2.06.94zm10 10l.94 2.06.94-2.06 2.06-.94-2.06-.94-.94-2.06-.94 2.06-2.06.94z\"/><path d=\"M17.41 7.96l-1.37-1.37c-.4-.4-.92-.59-1.43-.59-.52 0-1.04.2-1.43.59L10.3 9.45l-7.72 7.72c-.78.78-.78 2.05 0 2.83L4 21.41c.39.39.9.59 1.41.59.51 0 1.02-.2 1.41-.59l7.78-7.78 2.81-2.81c.8-.78.8-2.07 0-2.86zM5.41 20L4 18.59l7.72-7.72 1.47 1.35L5.41 20z\"/>\n",
              "  </svg>\n",
              "      </button>\n",
              "      \n",
              "  <style>\n",
              "    .colab-df-container {\n",
              "      display:flex;\n",
              "      flex-wrap:wrap;\n",
              "      gap: 12px;\n",
              "    }\n",
              "\n",
              "    .colab-df-convert {\n",
              "      background-color: #E8F0FE;\n",
              "      border: none;\n",
              "      border-radius: 50%;\n",
              "      cursor: pointer;\n",
              "      display: none;\n",
              "      fill: #1967D2;\n",
              "      height: 32px;\n",
              "      padding: 0 0 0 0;\n",
              "      width: 32px;\n",
              "    }\n",
              "\n",
              "    .colab-df-convert:hover {\n",
              "      background-color: #E2EBFA;\n",
              "      box-shadow: 0px 1px 2px rgba(60, 64, 67, 0.3), 0px 1px 3px 1px rgba(60, 64, 67, 0.15);\n",
              "      fill: #174EA6;\n",
              "    }\n",
              "\n",
              "    [theme=dark] .colab-df-convert {\n",
              "      background-color: #3B4455;\n",
              "      fill: #D2E3FC;\n",
              "    }\n",
              "\n",
              "    [theme=dark] .colab-df-convert:hover {\n",
              "      background-color: #434B5C;\n",
              "      box-shadow: 0px 1px 3px 1px rgba(0, 0, 0, 0.15);\n",
              "      filter: drop-shadow(0px 1px 2px rgba(0, 0, 0, 0.3));\n",
              "      fill: #FFFFFF;\n",
              "    }\n",
              "  </style>\n",
              "\n",
              "      <script>\n",
              "        const buttonEl =\n",
              "          document.querySelector('#df-f4050eae-8746-48e1-bcaa-5c2c72cbbc75 button.colab-df-convert');\n",
              "        buttonEl.style.display =\n",
              "          google.colab.kernel.accessAllowed ? 'block' : 'none';\n",
              "\n",
              "        async function convertToInteractive(key) {\n",
              "          const element = document.querySelector('#df-f4050eae-8746-48e1-bcaa-5c2c72cbbc75');\n",
              "          const dataTable =\n",
              "            await google.colab.kernel.invokeFunction('convertToInteractive',\n",
              "                                                     [key], {});\n",
              "          if (!dataTable) return;\n",
              "\n",
              "          const docLinkHtml = 'Like what you see? Visit the ' +\n",
              "            '<a target=\"_blank\" href=https://colab.research.google.com/notebooks/data_table.ipynb>data table notebook</a>'\n",
              "            + ' to learn more about interactive tables.';\n",
              "          element.innerHTML = '';\n",
              "          dataTable['output_type'] = 'display_data';\n",
              "          await google.colab.output.renderOutput(dataTable, element);\n",
              "          const docLink = document.createElement('div');\n",
              "          docLink.innerHTML = docLinkHtml;\n",
              "          element.appendChild(docLink);\n",
              "        }\n",
              "      </script>\n",
              "    </div>\n",
              "  </div>\n",
              "  "
            ]
          },
          "metadata": {},
          "execution_count": 28
        }
      ]
    },
    {
      "cell_type": "code",
      "source": [
        "#performance vs banchmark:30D rolling return\n",
        "def multi_period_return(r):\n",
        "  return (np.prod(r+1)-1)*100\n",
        "data.pct_change().rolling('30D').apply(multi_period_return).plot()"
      ],
      "metadata": {
        "id": "aM4HhmYC_jaP",
        "colab": {
          "base_uri": "https://localhost:8080/",
          "height": 288
        },
        "outputId": "17913c5f-2e3e-4ec0-dbc8-3454cf710236"
      },
      "execution_count": 22,
      "outputs": [
        {
          "output_type": "execute_result",
          "data": {
            "text/plain": [
              "<matplotlib.axes._subplots.AxesSubplot at 0x7f2cba8b8f40>"
            ]
          },
          "metadata": {},
          "execution_count": 22
        },
        {
          "output_type": "display_data",
          "data": {
            "text/plain": [
              "<Figure size 432x288 with 1 Axes>"
            ],
            "image/png": "[encoded data removed]"
          },
          "metadata": {
            "needs_background": "light"
          }
        }
      ]
    },
    {
      "cell_type": "markdown",
      "source": [
        "#Index Correlation and Exporting to Excel"
      ],
      "metadata": {
        "id": "RECHU8BIOG02"
      }
    },
    {
      "cell_type": "code",
      "source": [
        "daily_return= data.pct_change()\n",
        "correlation = daily_return.corr()\n",
        "correlation"
      ],
      "metadata": {
        "colab": {
          "base_uri": "https://localhost:8080/",
          "height": 112
        },
        "id": "d1YhAE5kPbUr",
        "outputId": "3500b1d0-e165-4bf9-97c1-da50d75af1f3"
      },
      "execution_count": 27,
      "outputs": [
        {
          "output_type": "execute_result",
          "data": {
            "text/plain": [
              "         Index    SP500\n",
              "Index 1.000000 0.742297\n",
              "SP500 0.742297 1.000000"
            ],
            "text/html": [
              "\n",
              "  <div id=\"df-a300d506-6420-49b1-bc77-056bcce43dfe\">\n",
              "    <div class=\"colab-df-container\">\n",
              "      <div>\n",
              "<style scoped>\n",
              "    .dataframe tbody tr th:only-of-type {\n",
              "        vertical-align: middle;\n",
              "    }\n",
              "\n",
              "    .dataframe tbody tr th {\n",
              "        vertical-align: top;\n",
              "    }\n",
              "\n",
              "    .dataframe thead th {\n",
              "        text-align: right;\n",
              "    }\n",
              "</style>\n",
              "<table border=\"1\" class=\"dataframe\">\n",
              "  <thead>\n",
              "    <tr style=\"text-align: right;\">\n",
              "      <th></th>\n",
              "      <th>Index</th>\n",
              "      <th>SP500</th>\n",
              "    </tr>\n",
              "  </thead>\n",
              "  <tbody>\n",
              "    <tr>\n",
              "      <th>Index</th>\n",
              "      <td>1.000000</td>\n",
              "      <td>0.742297</td>\n",
              "    </tr>\n",
              "    <tr>\n",
              "      <th>SP500</th>\n",
              "      <td>0.742297</td>\n",
              "      <td>1.000000</td>\n",
              "    </tr>\n",
              "  </tbody>\n",
              "</table>\n",
              "</div>\n",
              "      <button class=\"colab-df-convert\" onclick=\"convertToInteractive('df-a300d506-6420-49b1-bc77-056bcce43dfe')\"\n",
              "              title=\"Convert this dataframe to an interactive table.\"\n",
              "              style=\"display:none;\">\n",
              "        \n",
              "  <svg xmlns=\"http://www.w3.org/2000/svg\" height=\"24px\"viewBox=\"0 0 24 24\"\n",
              "       width=\"24px\">\n",
              "    <path d=\"M0 0h24v24H0V0z\" fill=\"none\"/>\n",
              "    <path d=\"M18.56 5.44l.94 2.06.94-2.06 2.06-.94-2.06-.94-.94-2.06-.94 2.06-2.06.94zm-11 1L8.5 8.5l.94-2.06 2.06-.94-2.06-.94L8.5 2.5l-.94 2.06-2.06.94zm10 10l.94 2.06.94-2.06 2.06-.94-2.06-.94-.94-2.06-.94 2.06-2.06.94z\"/><path d=\"M17.41 7.96l-1.37-1.37c-.4-.4-.92-.59-1.43-.59-.52 0-1.04.2-1.43.59L10.3 9.45l-7.72 7.72c-.78.78-.78 2.05 0 2.83L4 21.41c.39.39.9.59 1.41.59.51 0 1.02-.2 1.41-.59l7.78-7.78 2.81-2.81c.8-.78.8-2.07 0-2.86zM5.41 20L4 18.59l7.72-7.72 1.47 1.35L5.41 20z\"/>\n",
              "  </svg>\n",
              "      </button>\n",
              "      \n",
              "  <style>\n",
              "    .colab-df-container {\n",
              "      display:flex;\n",
              "      flex-wrap:wrap;\n",
              "      gap: 12px;\n",
              "    }\n",
              "\n",
              "    .colab-df-convert {\n",
              "      background-color: #E8F0FE;\n",
              "      border: none;\n",
              "      border-radius: 50%;\n",
              "      cursor: pointer;\n",
              "      display: none;\n",
              "      fill: #1967D2;\n",
              "      height: 32px;\n",
              "      padding: 0 0 0 0;\n",
              "      width: 32px;\n",
              "    }\n",
              "\n",
              "    .colab-df-convert:hover {\n",
              "      background-color: #E2EBFA;\n",
              "      box-shadow: 0px 1px 2px rgba(60, 64, 67, 0.3), 0px 1px 3px 1px rgba(60, 64, 67, 0.15);\n",
              "      fill: #174EA6;\n",
              "    }\n",
              "\n",
              "    [theme=dark] .colab-df-convert {\n",
              "      background-color: #3B4455;\n",
              "      fill: #D2E3FC;\n",
              "    }\n",
              "\n",
              "    [theme=dark] .colab-df-convert:hover {\n",
              "      background-color: #434B5C;\n",
              "      box-shadow: 0px 1px 3px 1px rgba(0, 0, 0, 0.15);\n",
              "      filter: drop-shadow(0px 1px 2px rgba(0, 0, 0, 0.3));\n",
              "      fill: #FFFFFF;\n",
              "    }\n",
              "  </style>\n",
              "\n",
              "      <script>\n",
              "        const buttonEl =\n",
              "          document.querySelector('#df-a300d506-6420-49b1-bc77-056bcce43dfe button.colab-df-convert');\n",
              "        buttonEl.style.display =\n",
              "          google.colab.kernel.accessAllowed ? 'block' : 'none';\n",
              "\n",
              "        async function convertToInteractive(key) {\n",
              "          const element = document.querySelector('#df-a300d506-6420-49b1-bc77-056bcce43dfe');\n",
              "          const dataTable =\n",
              "            await google.colab.kernel.invokeFunction('convertToInteractive',\n",
              "                                                     [key], {});\n",
              "          if (!dataTable) return;\n",
              "\n",
              "          const docLinkHtml = 'Like what you see? Visit the ' +\n",
              "            '<a target=\"_blank\" href=https://colab.research.google.com/notebooks/data_table.ipynb>data table notebook</a>'\n",
              "            + ' to learn more about interactive tables.';\n",
              "          element.innerHTML = '';\n",
              "          dataTable['output_type'] = 'display_data';\n",
              "          await google.colab.output.renderOutput(dataTable, element);\n",
              "          const docLink = document.createElement('div');\n",
              "          docLink.innerHTML = docLinkHtml;\n",
              "          element.appendChild(docLink);\n",
              "        }\n",
              "      </script>\n",
              "    </div>\n",
              "  </div>\n",
              "  "
            ]
          },
          "metadata": {},
          "execution_count": 27
        }
      ]
    },
    {
      "cell_type": "code",
      "source": [
        "sns.heatmap(correlation,annot=True)\n",
        "plt.title('Daily Return Correlation')"
      ],
      "metadata": {
        "colab": {
          "base_uri": "https://localhost:8080/",
          "height": 298
        },
        "id": "LEISW31PRMwt",
        "outputId": "43e57d54-0fdd-45c5-fdbf-93d655471baf"
      },
      "execution_count": 30,
      "outputs": [
        {
          "output_type": "execute_result",
          "data": {
            "text/plain": [
              "Text(0.5, 1.0, 'Daily Return Correlation')"
            ]
          },
          "metadata": {},
          "execution_count": 30
        },
        {
          "output_type": "display_data",
          "data": {
            "text/plain": [
              "<Figure size 432x288 with 2 Axes>"
            ],
            "image/png": "[encoded data removed]"
          },
          "metadata": {
            "needs_background": "light"
          }
        }
      ]
    },
    {
      "cell_type": "code",
      "source": [
        "#saving result in Excel\n",
        "correlation.to_excel(excel_writer='correlation.xls',sheet_name='Correlations',\n",
        "                     startrow=1,\n",
        "                     startcol=1)"
      ],
      "metadata": {
        "colab": {
          "base_uri": "https://localhost:8080/"
        },
        "id": "7VqvsqsXSisW",
        "outputId": "fa065405-c4ed-43c3-e226-6721e0b4b1b5"
      },
      "execution_count": 31,
      "outputs": [
        {
          "output_type": "stream",
          "name": "stderr",
          "text": [
            "<ipython-input-31-b5c479138b59>:2: FutureWarning: As the xlwt package is no longer maintained, the xlwt engine will be removed in a future version of pandas. This is the only engine in pandas that supports writing in the xls format. Install openpyxl and write to an xlsx file instead. You can set the option io.excel.xls.writer to 'xlwt' to silence this warning. While this option is deprecated and will also raise a warning, it can be globally set and the warning suppressed.\n",
            "  correlation.to_excel(excel_writer='correlation.xls',sheet_name='Correlations',\n"
          ]
        }
      ]
    },
    {
      "cell_type": "code",
      "source": [],
      "metadata": {
        "id": "hR4dHjr-T-mz"
      },
      "execution_count": null,
      "outputs": []
    }
  ]
}